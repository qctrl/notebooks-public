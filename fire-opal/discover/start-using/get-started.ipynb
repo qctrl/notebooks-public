{
 "cells": [
  {
   "attachments": {},
   "cell_type": "markdown",
   "id": "fac33785",
   "metadata": {},
   "source": [
    "# Get started\n",
    "\n",
    "**Fire Opal at a glance and quickstart**\n",
    "\n",
    "## Fire Opal overview\n",
    "\n",
    "Fire Opal is a Python package that applies a complete suite of error suppression techniques to vastly improve the quality of quantum algorithm results, often transforming quantum computer outputs from random to useful. For an in-depth explanation of Fire Opal's benefits and capabilities, check out the Fire Opal overview.\n",
    "\n",
    "This tutorial will run through the steps to set up Fire Opal and use it to run a Bernstein–Vazirani circuit. After completion, you will have demonstrated Fire Opal's benefits by comparing the success probabilities of executing the circuit with both Fire Opal and Qiskit. "
   ]
  },
  {
   "attachments": {},
   "cell_type": "markdown",
   "id": "5d1fff91",
   "metadata": {},
   "source": [
    "## Setup\n",
    "\n",
    "### 1. Sign up for an account\n",
    "\n",
    "You will need to [sign up for a Q-CTRL account](https://q-ctrl.com/fire-opal) to run the Fire Opal package.\n",
    "\n",
    "### 2. Install Fire Opal Python package\n",
    "\n",
    "Refer to [how to set up your environment and install Fire Opal](https://docs.q-ctrl.com/fire-opal/user-guides/how-to-set-up-your-environment-and-install-fire-opal) for more detailed information on how to set up your development environment to run Fire Opal. If you already have Python and a package manager installed, you can use the following command to install the necessary packages:\n",
    "\n",
    "```shell\n",
    "pip install fire-opal qiskit matplotlib qiskit-ibm-runtime qctrl-visualizer\n",
    "```"
   ]
  },
  {
   "cell_type": "code",
   "execution_count": 19,
   "id": "e69b7bc9",
   "metadata": {
    "pycharm": {
     "is_executing": true
    }
   },
   "outputs": [],
   "source": [
    "%pip install fire-opal qiskit matplotlib qiskit-ibm-runtime qctrl-visualizer -q\n",
    "import fireopal as fo\n",
    "import qiskit\n",
    "from qiskit_ibm_runtime import QiskitRuntimeService\n",
    "import matplotlib.pyplot as plt\n",
    "import qctrlvisualizer as qv\n",
    "\n",
    "plt.style.use(qv.get_qctrl_style())"
   ]
  },
  {
   "attachments": {},
   "cell_type": "markdown",
   "id": "ac41bad3",
   "metadata": {},
   "source": [
    "#### 2.1. Specify your organization\n",
    "If your Q-CTRL account is a member of multiple organizations, you must specify which organization to use by setting the organization parameter, as shown below. You can check organization names and other details by visiting your [Q-CTRL account](https://accounts.q-ctrl.com/). \n",
    "\n",
    "If your account details show multiple organizations, replace `organization_slug` with the unique identifier listed in your organization details. "
   ]
  },
  {
   "cell_type": "code",
   "execution_count": 4,
   "id": "9edc69de",
   "metadata": {},
   "outputs": [],
   "source": [
    "# Uncomment and replace \"organization_slug\" if you are a member of multiple Q-CTRL organizations\n",
    "# fo.config.configure_organization(organization_slug=\"organization_slug\")\n",
    "\n",
    "# Uncomment and replace \"q-ctrl-token\" with your API key, which you can find at https://accounts.q-ctrl.com/security\n",
    "# fo.authenticate_qctrl_account(\"q-ctrl-token\")"
   ]
  },
  {
   "attachments": {},
   "cell_type": "markdown",
   "id": "2c320b83",
   "metadata": {},
   "source": [
    "### 3. Sign up for an IBM Quantum account\n",
    "While Fire Opal's techology is inherently backend agnostic, in this tutorial we will run the circuit on an IBM Quantum backend device. \n",
    "\n",
    "You will need to [sign up](https://quantum.ibm.com/) for an IBM Quantum account, which you can use to access devices on the Open or Premium IBM Quantum plans. Simply input your hub, group, project, and access token to the [`make_credentials_for_ibmq`](https://docs.q-ctrl.com/references/fire-opal/fireopal/fireopal.credentials.make_credentials_for_ibmq.html) function.\n",
    "\n",
    "Alternatively, you can [authenticate with IBM Cloud](https://docs.q-ctrl.com/references/fire-opal/fireopal/fireopal.credentials.make_credentials_for_ibmq.html). Visit the documentation for more information on how to [get started](https://cloud.ibm.com/docs/quantum-computing?topic=quantum-computing-get-started).\n",
    "\n",
    "**Note:** IBM Quantum offers public access to some of their quantum computers. However, queue times for public systems can be long, which will cause delays in the execution steps of this guide (steps 5 and 7). These delays are extraneous to Fire Opal."
   ]
  },
  {
   "attachments": {},
   "cell_type": "markdown",
   "id": "188d827b",
   "metadata": {},
   "source": [
    "## Demo: Running the Bernstein–Vazirani algorithm with Fire Opal\n",
    "\n",
    "We'll use Fire Opal to run a Bernstein–Vazirani circuit. This algorithm is broadly used to find a string from the outputs of a black box function, though this information is not necessary for the sake of running this example."
   ]
  },
  {
   "attachments": {},
   "cell_type": "markdown",
   "id": "dc2c48dc",
   "metadata": {},
   "source": [
    "### 1. Define helper functions\n",
    "\n",
    "We will start by defining three helper functions:\n",
    "- `draw_circuit`: draws our QASM circuit\n",
    "- `plot_bv_results`: plots the results of our experiments\n",
    "- `bitstring_count_to_probabilities`: converts bitstring counts to probabilities"
   ]
  },
  {
   "cell_type": "code",
   "execution_count": 2,
   "id": "58912482",
   "metadata": {},
   "outputs": [],
   "source": [
    "shot_count = 2048\n",
    "\n",
    "\n",
    "def draw_circuit(qasm_str: str):\n",
    "    \"\"\"Draws a QASM circuit.\"\"\"\n",
    "    circuit = qiskit.QuantumCircuit.from_qasm_str(qasm_str)\n",
    "    display(circuit.draw(fold=-1))\n",
    "\n",
    "\n",
    "def plot_bv_results(results, hidden_string, title=\"\", max_columns=None):\n",
    "    \"\"\"\n",
    "    Plot a probability histogram and highlight the hidden string.\n",
    "    \"\"\"\n",
    "\n",
    "    # Restrict the number of columns displayed.\n",
    "    if max_columns is not None:\n",
    "        top_strings = sorted(results.keys(), key=lambda x: results[x], reverse=True)[\n",
    "            :max_columns\n",
    "        ]\n",
    "        if hidden_string not in top_strings:\n",
    "            top_strings.append(hidden_string)\n",
    "        results = {s: results.get(s, 0) for s in top_strings}\n",
    "\n",
    "    bitstrings = sorted(results.keys())\n",
    "\n",
    "    def to_probability(value, total):\n",
    "        if isinstance(value, float):\n",
    "            return value\n",
    "        return value / total\n",
    "\n",
    "    probabilities = [to_probability(results[b], shot_count) for b in bitstrings]\n",
    "    plt.figure(figsize=(20, 5))\n",
    "    bars = plt.bar(bitstrings, probabilities)\n",
    "    plt.xticks(rotation=90)\n",
    "\n",
    "    for index, bitstring in enumerate(bitstrings):\n",
    "        if bitstring != hidden_string:\n",
    "            bars[index].set_color(\"grey\")\n",
    "\n",
    "    plt.ylabel(\"Probability\")\n",
    "    plt.ylim([0, 1])\n",
    "    plt.title(title)\n",
    "    plt.show()\n",
    "\n",
    "\n",
    "def bitstring_count_to_probabilities(data, shot_count, number_of_counting_qubits):\n",
    "    \"\"\"\n",
    "    Process the results.\n",
    "    This function turns a dictionary of bitstring counts into a dictionary\n",
    "    of probabilities.\n",
    "    \"\"\"\n",
    "    probabilities = {\n",
    "        format(int(bitstring, 2), f\"0{number_of_counting_qubits}b\"): (\n",
    "            bitstring_count / shot_count\n",
    "        )\n",
    "        for bitstring, bitstring_count in data.items()\n",
    "    }\n",
    "\n",
    "    return probabilities"
   ]
  },
  {
   "attachments": {},
   "cell_type": "markdown",
   "id": "3f5e35b0",
   "metadata": {},
   "source": [
    "### 2. Provide the quantum circuit\n",
    "\n",
    "Here, we will define the Bernstein–Vazirani circuit as an [OpenQASM](https://openqasm.com/) string and visualize it using our previously defined helper function `draw_circuit`. Such a string can also be generated by exporting a quantum circuit written with any quantum-specific Python library."
   ]
  },
  {
   "cell_type": "code",
   "execution_count": 11,
   "id": "a8082360",
   "metadata": {},
   "outputs": [
    {
     "data": {
      "text/html": [
       "<pre style=\"word-wrap: normal;white-space: pre;background: #fff0;line-height: 1.1;font-family: &quot;Courier New&quot;,Courier,monospace\">      ┌───┐                                                                                                     ░ ┌───┐ ░ ┌─┐                                                      \n",
       " q_0: ┤ H ├───────■─────────────────────────────────────────────────────────────────────────────────────────────░─┤ H ├─░─┤M├──────────────────────────────────────────────────────\n",
       "      ├───┤       │                                                                                             ░ ├───┤ ░ └╥┘┌─┐                                                   \n",
       " q_1: ┤ H ├───────┼────■────────────────────────────────────────────────────────────────────────────────────────░─┤ H ├─░──╫─┤M├───────────────────────────────────────────────────\n",
       "      ├───┤       │    │                                                                                        ░ ├───┤ ░  ║ └╥┘┌─┐                                                \n",
       " q_2: ┤ H ├───────┼────┼────■───────────────────────────────────────────────────────────────────────────────────░─┤ H ├─░──╫──╫─┤M├────────────────────────────────────────────────\n",
       "      ├───┤       │    │    │                                                                                   ░ ├───┤ ░  ║  ║ └╥┘┌─┐                                             \n",
       " q_3: ┤ H ├───────┼────┼────┼────■──────────────────────────────────────────────────────────────────────────────░─┤ H ├─░──╫──╫──╫─┤M├─────────────────────────────────────────────\n",
       "      ├───┤       │    │    │    │                                                                              ░ ├───┤ ░  ║  ║  ║ └╥┘┌─┐                                          \n",
       " q_4: ┤ H ├───────┼────┼────┼────┼────■─────────────────────────────────────────────────────────────────────────░─┤ H ├─░──╫──╫──╫──╫─┤M├──────────────────────────────────────────\n",
       "      ├───┤       │    │    │    │    │                                                                         ░ ├───┤ ░  ║  ║  ║  ║ └╥┘┌─┐                                       \n",
       " q_5: ┤ H ├───────┼────┼────┼────┼────┼────■────────────────────────────────────────────────────────────────────░─┤ H ├─░──╫──╫──╫──╫──╫─┤M├───────────────────────────────────────\n",
       "      ├───┤       │    │    │    │    │    │                                                                    ░ ├───┤ ░  ║  ║  ║  ║  ║ └╥┘┌─┐                                    \n",
       " q_6: ┤ H ├───────┼────┼────┼────┼────┼────┼────■───────────────────────────────────────────────────────────────░─┤ H ├─░──╫──╫──╫──╫──╫──╫─┤M├────────────────────────────────────\n",
       "      ├───┤       │    │    │    │    │    │    │                                                               ░ ├───┤ ░  ║  ║  ║  ║  ║  ║ └╥┘┌─┐                                 \n",
       " q_7: ┤ H ├───────┼────┼────┼────┼────┼────┼────┼────■──────────────────────────────────────────────────────────░─┤ H ├─░──╫──╫──╫──╫──╫──╫──╫─┤M├─────────────────────────────────\n",
       "      ├───┤       │    │    │    │    │    │    │    │                                                          ░ ├───┤ ░  ║  ║  ║  ║  ║  ║  ║ └╥┘┌─┐                              \n",
       " q_8: ┤ H ├───────┼────┼────┼────┼────┼────┼────┼────┼────■─────────────────────────────────────────────────────░─┤ H ├─░──╫──╫──╫──╫──╫──╫──╫──╫─┤M├──────────────────────────────\n",
       "      ├───┤       │    │    │    │    │    │    │    │    │                                                     ░ ├───┤ ░  ║  ║  ║  ║  ║  ║  ║  ║ └╥┘┌─┐                           \n",
       " q_9: ┤ H ├───────┼────┼────┼────┼────┼────┼────┼────┼────┼────■────────────────────────────────────────────────░─┤ H ├─░──╫──╫──╫──╫──╫──╫──╫──╫──╫─┤M├───────────────────────────\n",
       "      ├───┤       │    │    │    │    │    │    │    │    │    │                                                ░ ├───┤ ░  ║  ║  ║  ║  ║  ║  ║  ║  ║ └╥┘┌─┐                        \n",
       "q_10: ┤ H ├───────┼────┼────┼────┼────┼────┼────┼────┼────┼────┼────■───────────────────────────────────────────░─┤ H ├─░──╫──╫──╫──╫──╫──╫──╫──╫──╫──╫─┤M├────────────────────────\n",
       "      ├───┤       │    │    │    │    │    │    │    │    │    │    │                                           ░ ├───┤ ░  ║  ║  ║  ║  ║  ║  ║  ║  ║  ║ └╥┘┌─┐                     \n",
       "q_11: ┤ H ├───────┼────┼────┼────┼────┼────┼────┼────┼────┼────┼────┼────■──────────────────────────────────────░─┤ H ├─░──╫──╫──╫──╫──╫──╫──╫──╫──╫──╫──╫─┤M├─────────────────────\n",
       "      ├───┤       │    │    │    │    │    │    │    │    │    │    │    │                                      ░ ├───┤ ░  ║  ║  ║  ║  ║  ║  ║  ║  ║  ║  ║ └╥┘┌─┐                  \n",
       "q_12: ┤ H ├───────┼────┼────┼────┼────┼────┼────┼────┼────┼────┼────┼────┼────■─────────────────────────────────░─┤ H ├─░──╫──╫──╫──╫──╫──╫──╫──╫──╫──╫──╫──╫─┤M├──────────────────\n",
       "      ├───┤       │    │    │    │    │    │    │    │    │    │    │    │    │                                 ░ ├───┤ ░  ║  ║  ║  ║  ║  ║  ║  ║  ║  ║  ║  ║ └╥┘┌─┐               \n",
       "q_13: ┤ H ├───────┼────┼────┼────┼────┼────┼────┼────┼────┼────┼────┼────┼────┼────■────────────────────────────░─┤ H ├─░──╫──╫──╫──╫──╫──╫──╫──╫──╫──╫──╫──╫──╫─┤M├───────────────\n",
       "      ├───┤       │    │    │    │    │    │    │    │    │    │    │    │    │    │                            ░ ├───┤ ░  ║  ║  ║  ║  ║  ║  ║  ║  ║  ║  ║  ║  ║ └╥┘┌─┐            \n",
       "q_14: ┤ H ├───────┼────┼────┼────┼────┼────┼────┼────┼────┼────┼────┼────┼────┼────┼────■───────────────────────░─┤ H ├─░──╫──╫──╫──╫──╫──╫──╫──╫──╫──╫──╫──╫──╫──╫─┤M├────────────\n",
       "      ├───┤       │    │    │    │    │    │    │    │    │    │    │    │    │    │    │                       ░ ├───┤ ░  ║  ║  ║  ║  ║  ║  ║  ║  ║  ║  ║  ║  ║  ║ └╥┘┌─┐         \n",
       "q_15: ┤ H ├───────┼────┼────┼────┼────┼────┼────┼────┼────┼────┼────┼────┼────┼────┼────┼────■──────────────────░─┤ H ├─░──╫──╫──╫──╫──╫──╫──╫──╫──╫──╫──╫──╫──╫──╫──╫─┤M├─────────\n",
       "      ├───┤       │    │    │    │    │    │    │    │    │    │    │    │    │    │    │    │                  ░ ├───┤ ░  ║  ║  ║  ║  ║  ║  ║  ║  ║  ║  ║  ║  ║  ║  ║ └╥┘┌─┐      \n",
       "q_16: ┤ H ├───────┼────┼────┼────┼────┼────┼────┼────┼────┼────┼────┼────┼────┼────┼────┼────┼────■─────────────░─┤ H ├─░──╫──╫──╫──╫──╫──╫──╫──╫──╫──╫──╫──╫──╫──╫──╫──╫─┤M├──────\n",
       "      ├───┤       │    │    │    │    │    │    │    │    │    │    │    │    │    │    │    │    │             ░ ├───┤ ░  ║  ║  ║  ║  ║  ║  ║  ║  ║  ║  ║  ║  ║  ║  ║  ║ └╥┘┌─┐   \n",
       "q_17: ┤ H ├───────┼────┼────┼────┼────┼────┼────┼────┼────┼────┼────┼────┼────┼────┼────┼────┼────┼────■────────░─┤ H ├─░──╫──╫──╫──╫──╫──╫──╫──╫──╫──╫──╫──╫──╫──╫──╫──╫──╫─┤M├───\n",
       "      ├───┤       │    │    │    │    │    │    │    │    │    │    │    │    │    │    │    │    │    │        ░ ├───┤ ░  ║  ║  ║  ║  ║  ║  ║  ║  ║  ║  ║  ║  ║  ║  ║  ║  ║ └╥┘┌─┐\n",
       "q_18: ┤ H ├───────┼────┼────┼────┼────┼────┼────┼────┼────┼────┼────┼────┼────┼────┼────┼────┼────┼────┼────■───░─┤ H ├─░──╫──╫──╫──╫──╫──╫──╫──╫──╫──╫──╫──╫──╫──╫──╫──╫──╫──╫─┤M├\n",
       "      ├───┤┌───┐┌─┴─┐┌─┴─┐┌─┴─┐┌─┴─┐┌─┴─┐┌─┴─┐┌─┴─┐┌─┴─┐┌─┴─┐┌─┴─┐┌─┴─┐┌─┴─┐┌─┴─┐┌─┴─┐┌─┴─┐┌─┴─┐┌─┴─┐┌─┴─┐┌─┴─┐ ░ ├───┤ ░  ║  ║  ║  ║  ║  ║  ║  ║  ║  ║  ║  ║  ║  ║  ║  ║  ║  ║ └╥┘\n",
       "q_19: ┤ X ├┤ H ├┤ X ├┤ X ├┤ X ├┤ X ├┤ X ├┤ X ├┤ X ├┤ X ├┤ X ├┤ X ├┤ X ├┤ X ├┤ X ├┤ X ├┤ X ├┤ X ├┤ X ├┤ X ├┤ X ├─░─┤ H ├─░──╫──╫──╫──╫──╫──╫──╫──╫──╫──╫──╫──╫──╫──╫──╫──╫──╫──╫──╫─\n",
       "      └───┘└───┘└───┘└───┘└───┘└───┘└───┘└───┘└───┘└───┘└───┘└───┘└───┘└───┘└───┘└───┘└───┘└───┘└───┘└───┘└───┘ ░ └───┘ ░  ║  ║  ║  ║  ║  ║  ║  ║  ║  ║  ║  ║  ║  ║  ║  ║  ║  ║  ║ \n",
       "c: 19/═════════════════════════════════════════════════════════════════════════════════════════════════════════════════════╩══╩══╩══╩══╩══╩══╩══╩══╩══╩══╩══╩══╩══╩══╩══╩══╩══╩══╩═\n",
       "                                                                                                                           0  1  2  3  4  5  6  7  8  9  10 11 12 13 14 15 16 17 18</pre>"
      ],
      "text/plain": [
       "      ┌───┐                                                                                                     ░ ┌───┐ ░ ┌─┐                                                      \n",
       " q_0: ┤ H ├───────■─────────────────────────────────────────────────────────────────────────────────────────────░─┤ H ├─░─┤M├──────────────────────────────────────────────────────\n",
       "      ├───┤       │                                                                                             ░ ├───┤ ░ └╥┘┌─┐                                                   \n",
       " q_1: ┤ H ├───────┼────■────────────────────────────────────────────────────────────────────────────────────────░─┤ H ├─░──╫─┤M├───────────────────────────────────────────────────\n",
       "      ├───┤       │    │                                                                                        ░ ├───┤ ░  ║ └╥┘┌─┐                                                \n",
       " q_2: ┤ H ├───────┼────┼────■───────────────────────────────────────────────────────────────────────────────────░─┤ H ├─░──╫──╫─┤M├────────────────────────────────────────────────\n",
       "      ├───┤       │    │    │                                                                                   ░ ├───┤ ░  ║  ║ └╥┘┌─┐                                             \n",
       " q_3: ┤ H ├───────┼────┼────┼────■──────────────────────────────────────────────────────────────────────────────░─┤ H ├─░──╫──╫──╫─┤M├─────────────────────────────────────────────\n",
       "      ├───┤       │    │    │    │                                                                              ░ ├───┤ ░  ║  ║  ║ └╥┘┌─┐                                          \n",
       " q_4: ┤ H ├───────┼────┼────┼────┼────■─────────────────────────────────────────────────────────────────────────░─┤ H ├─░──╫──╫──╫──╫─┤M├──────────────────────────────────────────\n",
       "      ├───┤       │    │    │    │    │                                                                         ░ ├───┤ ░  ║  ║  ║  ║ └╥┘┌─┐                                       \n",
       " q_5: ┤ H ├───────┼────┼────┼────┼────┼────■────────────────────────────────────────────────────────────────────░─┤ H ├─░──╫──╫──╫──╫──╫─┤M├───────────────────────────────────────\n",
       "      ├───┤       │    │    │    │    │    │                                                                    ░ ├───┤ ░  ║  ║  ║  ║  ║ └╥┘┌─┐                                    \n",
       " q_6: ┤ H ├───────┼────┼────┼────┼────┼────┼────■───────────────────────────────────────────────────────────────░─┤ H ├─░──╫──╫──╫──╫──╫──╫─┤M├────────────────────────────────────\n",
       "      ├───┤       │    │    │    │    │    │    │                                                               ░ ├───┤ ░  ║  ║  ║  ║  ║  ║ └╥┘┌─┐                                 \n",
       " q_7: ┤ H ├───────┼────┼────┼────┼────┼────┼────┼────■──────────────────────────────────────────────────────────░─┤ H ├─░──╫──╫──╫──╫──╫──╫──╫─┤M├─────────────────────────────────\n",
       "      ├───┤       │    │    │    │    │    │    │    │                                                          ░ ├───┤ ░  ║  ║  ║  ║  ║  ║  ║ └╥┘┌─┐                              \n",
       " q_8: ┤ H ├───────┼────┼────┼────┼────┼────┼────┼────┼────■─────────────────────────────────────────────────────░─┤ H ├─░──╫──╫──╫──╫──╫──╫──╫──╫─┤M├──────────────────────────────\n",
       "      ├───┤       │    │    │    │    │    │    │    │    │                                                     ░ ├───┤ ░  ║  ║  ║  ║  ║  ║  ║  ║ └╥┘┌─┐                           \n",
       " q_9: ┤ H ├───────┼────┼────┼────┼────┼────┼────┼────┼────┼────■────────────────────────────────────────────────░─┤ H ├─░──╫──╫──╫──╫──╫──╫──╫──╫──╫─┤M├───────────────────────────\n",
       "      ├───┤       │    │    │    │    │    │    │    │    │    │                                                ░ ├───┤ ░  ║  ║  ║  ║  ║  ║  ║  ║  ║ └╥┘┌─┐                        \n",
       "q_10: ┤ H ├───────┼────┼────┼────┼────┼────┼────┼────┼────┼────┼────■───────────────────────────────────────────░─┤ H ├─░──╫──╫──╫──╫──╫──╫──╫──╫──╫──╫─┤M├────────────────────────\n",
       "      ├───┤       │    │    │    │    │    │    │    │    │    │    │                                           ░ ├───┤ ░  ║  ║  ║  ║  ║  ║  ║  ║  ║  ║ └╥┘┌─┐                     \n",
       "q_11: ┤ H ├───────┼────┼────┼────┼────┼────┼────┼────┼────┼────┼────┼────■──────────────────────────────────────░─┤ H ├─░──╫──╫──╫──╫──╫──╫──╫──╫──╫──╫──╫─┤M├─────────────────────\n",
       "      ├───┤       │    │    │    │    │    │    │    │    │    │    │    │                                      ░ ├───┤ ░  ║  ║  ║  ║  ║  ║  ║  ║  ║  ║  ║ └╥┘┌─┐                  \n",
       "q_12: ┤ H ├───────┼────┼────┼────┼────┼────┼────┼────┼────┼────┼────┼────┼────■─────────────────────────────────░─┤ H ├─░──╫──╫──╫──╫──╫──╫──╫──╫──╫──╫──╫──╫─┤M├──────────────────\n",
       "      ├───┤       │    │    │    │    │    │    │    │    │    │    │    │    │                                 ░ ├───┤ ░  ║  ║  ║  ║  ║  ║  ║  ║  ║  ║  ║  ║ └╥┘┌─┐               \n",
       "q_13: ┤ H ├───────┼────┼────┼────┼────┼────┼────┼────┼────┼────┼────┼────┼────┼────■────────────────────────────░─┤ H ├─░──╫──╫──╫──╫──╫──╫──╫──╫──╫──╫──╫──╫──╫─┤M├───────────────\n",
       "      ├───┤       │    │    │    │    │    │    │    │    │    │    │    │    │    │                            ░ ├───┤ ░  ║  ║  ║  ║  ║  ║  ║  ║  ║  ║  ║  ║  ║ └╥┘┌─┐            \n",
       "q_14: ┤ H ├───────┼────┼────┼────┼────┼────┼────┼────┼────┼────┼────┼────┼────┼────┼────■───────────────────────░─┤ H ├─░──╫──╫──╫──╫──╫──╫──╫──╫──╫──╫──╫──╫──╫──╫─┤M├────────────\n",
       "      ├───┤       │    │    │    │    │    │    │    │    │    │    │    │    │    │    │                       ░ ├───┤ ░  ║  ║  ║  ║  ║  ║  ║  ║  ║  ║  ║  ║  ║  ║ └╥┘┌─┐         \n",
       "q_15: ┤ H ├───────┼────┼────┼────┼────┼────┼────┼────┼────┼────┼────┼────┼────┼────┼────┼────■──────────────────░─┤ H ├─░──╫──╫──╫──╫──╫──╫──╫──╫──╫──╫──╫──╫──╫──╫──╫─┤M├─────────\n",
       "      ├───┤       │    │    │    │    │    │    │    │    │    │    │    │    │    │    │    │                  ░ ├───┤ ░  ║  ║  ║  ║  ║  ║  ║  ║  ║  ║  ║  ║  ║  ║  ║ └╥┘┌─┐      \n",
       "q_16: ┤ H ├───────┼────┼────┼────┼────┼────┼────┼────┼────┼────┼────┼────┼────┼────┼────┼────┼────■─────────────░─┤ H ├─░──╫──╫──╫──╫──╫──╫──╫──╫──╫──╫──╫──╫──╫──╫──╫──╫─┤M├──────\n",
       "      ├───┤       │    │    │    │    │    │    │    │    │    │    │    │    │    │    │    │    │             ░ ├───┤ ░  ║  ║  ║  ║  ║  ║  ║  ║  ║  ║  ║  ║  ║  ║  ║  ║ └╥┘┌─┐   \n",
       "q_17: ┤ H ├───────┼────┼────┼────┼────┼────┼────┼────┼────┼────┼────┼────┼────┼────┼────┼────┼────┼────■────────░─┤ H ├─░──╫──╫──╫──╫──╫──╫──╫──╫──╫──╫──╫──╫──╫──╫──╫──╫──╫─┤M├───\n",
       "      ├───┤       │    │    │    │    │    │    │    │    │    │    │    │    │    │    │    │    │    │        ░ ├───┤ ░  ║  ║  ║  ║  ║  ║  ║  ║  ║  ║  ║  ║  ║  ║  ║  ║  ║ └╥┘┌─┐\n",
       "q_18: ┤ H ├───────┼────┼────┼────┼────┼────┼────┼────┼────┼────┼────┼────┼────┼────┼────┼────┼────┼────┼────■───░─┤ H ├─░──╫──╫──╫──╫──╫──╫──╫──╫──╫──╫──╫──╫──╫──╫──╫──╫──╫──╫─┤M├\n",
       "      ├───┤┌───┐┌─┴─┐┌─┴─┐┌─┴─┐┌─┴─┐┌─┴─┐┌─┴─┐┌─┴─┐┌─┴─┐┌─┴─┐┌─┴─┐┌─┴─┐┌─┴─┐┌─┴─┐┌─┴─┐┌─┴─┐┌─┴─┐┌─┴─┐┌─┴─┐┌─┴─┐ ░ ├───┤ ░  ║  ║  ║  ║  ║  ║  ║  ║  ║  ║  ║  ║  ║  ║  ║  ║  ║  ║ └╥┘\n",
       "q_19: ┤ X ├┤ H ├┤ X ├┤ X ├┤ X ├┤ X ├┤ X ├┤ X ├┤ X ├┤ X ├┤ X ├┤ X ├┤ X ├┤ X ├┤ X ├┤ X ├┤ X ├┤ X ├┤ X ├┤ X ├┤ X ├─░─┤ H ├─░──╫──╫──╫──╫──╫──╫──╫──╫──╫──╫──╫──╫──╫──╫──╫──╫──╫──╫──╫─\n",
       "      └───┘└───┘└───┘└───┘└───┘└───┘└───┘└───┘└───┘└───┘└───┘└───┘└───┘└───┘└───┘└───┘└───┘└───┘└───┘└───┘└───┘ ░ └───┘ ░  ║  ║  ║  ║  ║  ║  ║  ║  ║  ║  ║  ║  ║  ║  ║  ║  ║  ║  ║ \n",
       "c: 19/═════════════════════════════════════════════════════════════════════════════════════════════════════════════════════╩══╩══╩══╩══╩══╩══╩══╩══╩══╩══╩══╩══╩══╩══╩══╩══╩══╩══╩═\n",
       "                                                                                                                           0  1  2  3  4  5  6  7  8  9  10 11 12 13 14 15 16 17 18"
      ]
     },
     "metadata": {},
     "output_type": "display_data"
    }
   ],
   "source": [
    "hidden_string = \"1111111111111111111\"\n",
    "\n",
    "circuit_qasm = (\n",
    "    circuit_qasm\n",
    ") = \"\"\"\n",
    "OPENQASM 2.0;\n",
    "include \"qelib1.inc\";\n",
    "qreg q[20];\n",
    "creg c[19];\n",
    "x q[19];\n",
    "h q[0];\n",
    "h q[1];\n",
    "h q[2];\n",
    "h q[3];\n",
    "h q[4];\n",
    "h q[5];\n",
    "h q[6];\n",
    "h q[7];\n",
    "h q[8];\n",
    "h q[9];\n",
    "h q[10];\n",
    "h q[11];\n",
    "h q[12];\n",
    "h q[13];\n",
    "h q[14];\n",
    "h q[15];\n",
    "h q[16];\n",
    "h q[17];\n",
    "h q[18];\n",
    "h q[19];\n",
    "cx q[0],q[19];\n",
    "cx q[1],q[19];\n",
    "cx q[2],q[19];\n",
    "cx q[3],q[19];\n",
    "cx q[4],q[19];\n",
    "cx q[5],q[19];\n",
    "cx q[6],q[19];\n",
    "cx q[7],q[19];\n",
    "cx q[8],q[19];\n",
    "cx q[9],q[19];\n",
    "cx q[10],q[19];\n",
    "cx q[11],q[19];\n",
    "cx q[12],q[19];\n",
    "cx q[13],q[19];\n",
    "cx q[14],q[19];\n",
    "cx q[15],q[19];\n",
    "cx q[16],q[19];\n",
    "cx q[17],q[19];\n",
    "cx q[18],q[19];\n",
    "barrier q[0],q[1],q[2],q[3],q[4],q[5],q[6],q[7],q[8],q[9],q[10],q[11],q[12],q[13],q[14],q[15],q[16],q[17],q[18],q[19];\n",
    "h q[0];\n",
    "h q[1];\n",
    "h q[2];\n",
    "h q[3];\n",
    "h q[4];\n",
    "h q[5];\n",
    "h q[6];\n",
    "h q[7];\n",
    "h q[8];\n",
    "h q[9];\n",
    "h q[10];\n",
    "h q[11];\n",
    "h q[12];\n",
    "h q[13];\n",
    "h q[14];\n",
    "h q[15];\n",
    "h q[16];\n",
    "h q[17];\n",
    "h q[18];\n",
    "h q[19];\n",
    "barrier q[0],q[1],q[2],q[3],q[4],q[5],q[6],q[7],q[8],q[9],q[10],q[11],q[12],q[13],q[14],q[15],q[16],q[17],q[18],q[19];\n",
    "measure q[0] -> c[0];\n",
    "measure q[1] -> c[1];\n",
    "measure q[2] -> c[2];\n",
    "measure q[3] -> c[3];\n",
    "measure q[4] -> c[4];\n",
    "measure q[5] -> c[5];\n",
    "measure q[6] -> c[6];\n",
    "measure q[7] -> c[7];\n",
    "measure q[8] -> c[8];\n",
    "measure q[9] -> c[9];\n",
    "measure q[10] -> c[10];\n",
    "measure q[11] -> c[11];\n",
    "measure q[12] -> c[12];\n",
    "measure q[13] -> c[13];\n",
    "measure q[14] -> c[14];\n",
    "measure q[15] -> c[15];\n",
    "measure q[16] -> c[16];\n",
    "measure q[17] -> c[17];\n",
    "measure q[18] -> c[18];\"\"\"\n",
    "draw_circuit(circuit_qasm)"
   ]
  },
  {
   "attachments": {},
   "cell_type": "markdown",
   "id": "7a0767ed",
   "metadata": {},
   "source": [
    "### 3. Provide your device information and credentials\n",
    "\n",
    "Next, we'll provide device information for the real hardware backend. Fire Opal will execute the circuit on the backend on your behalf, and it is designed to work seamlessly across multiple backend providers. For this example, we will use an IBM Quantum hardware device. \n",
    "\n",
    "Note that the code below requires your IBM Quantum API token. Visit [IBM Quantum](https://quantum.ibm.com/) to sign up for an account and obtain your access credentials."
   ]
  },
  {
   "cell_type": "code",
   "execution_count": null,
   "id": "ef17a083",
   "metadata": {},
   "outputs": [],
   "source": [
    "# These are the properties for the publicly available provider for IBM backends.\n",
    "# If you have access to a private provider and wish to use it, replace these values.\n",
    "hub = \"ibm-q\"\n",
    "group = \"open\"\n",
    "project = \"main\"\n",
    "token = \"YOUR_IBM_TOKEN\"\n",
    "credentials = fo.credentials.make_credentials_for_ibmq(\n",
    "    token=token, hub=hub, group=group, project=project\n",
    ")\n",
    "\n",
    "service = QiskitRuntimeService(\n",
    "    token=token, instance=hub + \"/\" + group + \"/\" + project, channel=\"ibm_quantum\"\n",
    ")"
   ]
  },
  {
   "attachments": {},
   "cell_type": "markdown",
   "id": "a221f3a2",
   "metadata": {},
   "source": [
    "Next we will use the function `show_supported_devices` to list the devices that are both supported by Fire Opal and accessible to you when using the `credentials` above."
   ]
  },
  {
   "cell_type": "code",
   "execution_count": null,
   "id": "7f998348",
   "metadata": {},
   "outputs": [],
   "source": [
    "supported_devices = fo.show_supported_devices(credentials=credentials)[\n",
    "    \"supported_devices\"\n",
    "]\n",
    "for name in supported_devices:\n",
    "    print(name)"
   ]
  },
  {
   "attachments": {},
   "cell_type": "markdown",
   "id": "f6b4036c",
   "metadata": {},
   "source": [
    "From the resulting list, you can choose a backend device and replace `\"desired_backend\"`. The list will only include devices accessible to you."
   ]
  },
  {
   "cell_type": "code",
   "execution_count": null,
   "id": "866877b2",
   "metadata": {},
   "outputs": [],
   "source": [
    "# Enter your desired IBM backend here or select one with a small queue\n",
    "backend_name = \"desired_backend\"\n",
    "print(f\"Will run on backend: {backend_name}\")"
   ]
  },
  {
   "attachments": {},
   "cell_type": "markdown",
   "id": "29527972",
   "metadata": {},
   "source": [
    "### 4. Validate the circuit and backend\n",
    "\n",
    "Now that we have defined our credentials and are able to select a device we wish to use, we can validate that Fire Opal can compile our circuit, and that it's compatible with the indicated backend.  "
   ]
  },
  {
   "cell_type": "code",
   "execution_count": null,
   "id": "9c476b4e",
   "metadata": {},
   "outputs": [],
   "source": [
    "validate_results = fo.validate(\n",
    "    circuits=[circuit_qasm], credentials=credentials, backend_name=backend_name\n",
    ")\n",
    "\n",
    "if validate_results[\"results\"] == []:\n",
    "    print(\"No errors found.\")\n",
    "else:\n",
    "    print(\"The following errors were found:\")\n",
    "    for error in validate_results[\"results\"]:\n",
    "        print(error)"
   ]
  },
  {
   "attachments": {},
   "cell_type": "markdown",
   "id": "65c1edca",
   "metadata": {},
   "source": [
    "In this previous example, the output should be an empty list since there are no errors in the circuit, i.e. `validate_results[\"results\"] == []`. \n",
    "Note that the length of the `validate_results` list is the total number of errors present across all circuits in a batch.\n",
    "Since our circuit is error free, we can execute our circuit on real hardware."
   ]
  },
  {
   "attachments": {},
   "cell_type": "markdown",
   "id": "8dd93ffc",
   "metadata": {},
   "source": [
    "### 5. Execute the circuit using Fire Opal\n",
    "\n",
    "In the absence of hardware noise, only a single experiment would be required to obtain the correct hidden string: `111 111 111 11`. However in real quantum hardware, noise disturbs the state of the system and degrades performance, decreasing the probability of obtaining the correct answer for any single experiment. Fire Opal automates the adjustments made by experts when running circuits on a real device."
   ]
  },
  {
   "cell_type": "markdown",
   "id": "244ac624",
   "metadata": {},
   "source": [
    "**_Note: Once jobs are submitted, there may be a delay in returning results due to the hardware provider's queue. You can [view and retrieve results later](https://docs.q-ctrl.com/fire-opal/user-guides/how-to-view-previous-jobs-and-retrieve-results). Be sure to let your jobs finish executing, and do not cancel the process. Even in the case of kernel disconnection, the job will still complete, and results can later be retrieved._** "
   ]
  },
  {
   "cell_type": "code",
   "execution_count": null,
   "id": "48cb4b5f08d8833d",
   "metadata": {},
   "outputs": [],
   "source": [
    "fire_opal_job = fo.execute(\n",
    "    circuits=[circuit_qasm],\n",
    "    shot_count=shot_count,\n",
    "    credentials=credentials,\n",
    "    backend_name=backend_name,\n",
    ")"
   ]
  },
  {
   "cell_type": "code",
   "execution_count": null,
   "id": "5c8cd4e6",
   "metadata": {},
   "outputs": [],
   "source": [
    "bitstring_results = fire_opal_job.result()[\"results\"]"
   ]
  },
  {
   "attachments": {},
   "cell_type": "markdown",
   "id": "20d569f8",
   "metadata": {},
   "source": [
    "### 6. Analyze results\n",
    "\n",
    "Now you can look at the outputs from the quantum circuit executions. The success probability is simply the number of times the hidden string was obtained out of the total number of circuit shots. For reference, running this circuit on a real device without Fire Opal typically has a success probability of 2-3%. As you can see, Fire Opal greatly improved the success probability."
   ]
  },
  {
   "cell_type": "code",
   "execution_count": 21,
   "id": "e1b9325d",
   "metadata": {},
   "outputs": [
    {
     "name": "stdout",
     "output_type": "stream",
     "text": [
      "Success probability: 22.93%\n"
     ]
    },
    {
     "data": {
      "image/png": "[encoded data removed]",
      "text/plain": [
       "<Figure size 1440x360 with 1 Axes>"
      ]
     },
     "metadata": {},
     "output_type": "display_data"
    }
   ],
   "source": [
    "print(f\"Success probability: {100 * bitstring_results[0][hidden_string]:.2f}%\")\n",
    "plot_bv_results(\n",
    "    bitstring_results[0],\n",
    "    hidden_string=hidden_string,\n",
    "    title=f\"Fire Opal ($n=19$)\",\n",
    "    max_columns=100,\n",
    ")"
   ]
  },
  {
   "attachments": {},
   "cell_type": "markdown",
   "id": "ac91cdf2",
   "metadata": {},
   "source": [
    "### 7. Compare Fire Opal Results with Qiskit\n",
    "\n",
    "To get a true comparison, let's run the same circuit without Fire Opal. We'll run the circuit using Qiskit on the same IBM backend as used previously to get a one-to-one comparison."
   ]
  },
  {
   "cell_type": "code",
   "execution_count": null,
   "id": "6e510737",
   "metadata": {},
   "outputs": [],
   "source": [
    "from qiskit_ibm_runtime import SamplerV2 as Sampler\n",
    "from qiskit.transpiler.preset_passmanagers import generate_preset_pass_manager\n",
    "\n",
    "backend = service.backend(backend_name)\n",
    "sampler = Sampler(backend=backend)\n",
    "\n",
    "circuit_qiskit = qiskit.QuantumCircuit.from_qasm_str(circuit_qasm)\n",
    "pass_manager = generate_preset_pass_manager(optimization_level=1, backend=backend)\n",
    "isa_circuit = pass_manager.run(circuit_qiskit)\n",
    "ibm_result = sampler.run([isa_circuit], shots=shot_count).result()\n",
    "ibm_probabilities = bitstring_count_to_probabilities(\n",
    "    ibm_result[0].data.c.get_counts(), shot_count, 19\n",
    ")"
   ]
  },
  {
   "cell_type": "code",
   "execution_count": 27,
   "id": "0eec9327",
   "metadata": {},
   "outputs": [
    {
     "name": "stdout",
     "output_type": "stream",
     "text": [
      "Success probability: 0.39%\n"
     ]
    },
    {
     "data": {
      "image/png": "[encoded data removed]",
      "text/plain": [
       "<Figure size 1440x360 with 1 Axes>"
      ]
     },
     "metadata": {},
     "output_type": "display_data"
    }
   ],
   "source": [
    "print(f\"Success probability: {100 * ibm_probabilities[hidden_string]:.2f}%\")\n",
    "plot_bv_results(\n",
    "    ibm_probabilities,\n",
    "    hidden_string=hidden_string,\n",
    "    title=f\"{backend_name} ($n=19$)\",\n",
    "    max_columns=100,\n",
    ")"
   ]
  },
  {
   "attachments": {},
   "cell_type": "markdown",
   "id": "707ca35c",
   "metadata": {},
   "source": [
    "The above results demonstrate that noise has severely impacted the probability of obtaining the correct hidden string as the output. In this case, the string returned with the greatest frequency by the quantum computer was not the expected `111 111 111 11` state. We should also take note of the amount of incorrect states that now contain non-zero return probabilities. Not only do default configurations fail to find the correct answer, they also increase the probabilities of the incorrect answers.\n",
    "\n",
    "In fact, the performance degradation is so severe that in order to be reasonably sure of the hidden string, using the original classical algorithm would be more efficient."
   ]
  },
  {
   "attachments": {},
   "cell_type": "markdown",
   "id": "654c053b",
   "metadata": {},
   "source": [
    "You can tell that Fire Opal found the correct answer because the mode of the output distribution, or the most frequent outcome, matches the desired output: bitstring `111 111 111 11`. Fire Opal significantly improves the probability of a successful outcome, often by a factor of ten or more."
   ]
  },
  {
   "cell_type": "code",
   "execution_count": 31,
   "id": "41681551",
   "metadata": {},
   "outputs": [
    {
     "name": "stdout",
     "output_type": "stream",
     "text": [
      "Fire Opal improved success probability by a factor of 58!\n"
     ]
    }
   ],
   "source": [
    "fire_opal_success = bitstring_results[0][hidden_string]\n",
    "ibm_success = ibm_probabilities[hidden_string]\n",
    "\n",
    "if ibm_success != 0:\n",
    "    factor = fire_opal_success / ibm_success\n",
    "    print(f\"Fire Opal improved success probability by a factor of {int(factor)}!\")\n",
    "else:\n",
    "    print(\"Fire Opal improved success probability by a factor of >1000X\")"
   ]
  },
  {
   "attachments": {},
   "cell_type": "markdown",
   "id": "b1204cda",
   "metadata": {},
   "source": [
    "Congratulations! You've run your first algorithm with Fire Opal and demonstrated its ability in transforming a device which finds the incorrect answer by default, to a device that finds the correct answer."
   ]
  },
  {
   "attachments": {},
   "cell_type": "markdown",
   "id": "77690d3e",
   "metadata": {},
   "source": [
    "The package versions below were used to produce this notebook."
   ]
  },
  {
   "cell_type": "code",
   "execution_count": 3,
   "id": "99655780",
   "metadata": {},
   "outputs": [
    {
     "name": "stdout",
     "output_type": "stream",
     "text": [
      "| Package               | Version |\n",
      "| --------------------- | ------- |\n",
      "| Python                | 3.11.8  |\n",
      "| matplotlib            | 3.8.4   |\n",
      "| networkx              | 2.8.8   |\n",
      "| numpy                 | 1.26.4  |\n",
      "| qiskit                | 1.0.2   |\n",
      "| qiskit-ibm-runtime    | 0.23.0  |\n",
      "| sympy                 | 1.12    |\n",
      "| fire-opal             | 7.2.0   |\n",
      "| qctrl-workflow-client | 3.0.0   |\n"
     ]
    }
   ],
   "source": [
    "from fireopal import print_package_versions\n",
    "\n",
    "print_package_versions()"
   ]
  }
 ],
 "metadata": {
  "kernelspec": {
   "display_name": "FOcore39",
   "language": "python",
   "name": "python3"
  },
  "language_info": {
   "codemirror_mode": {
    "name": "ipython",
    "version": 3
   },
   "file_extension": ".py",
   "mimetype": "text/x-python",
   "name": "python",
   "nbconvert_exporter": "python",
   "pygments_lexer": "ipython3",
   "version": "3.11.8"
  }
 },
 "nbformat": 4,
 "nbformat_minor": 5
}
